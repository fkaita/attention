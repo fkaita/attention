{
 "cells": [
  {
   "cell_type": "code",
   "execution_count": 343,
   "id": "03748066",
   "metadata": {},
   "outputs": [],
   "source": [
    "import numpy as np\n",
    "\n",
    "# http://mechatorodiy.blog.fc2.com/blog-entry-7.html"
   ]
  },
  {
   "cell_type": "code",
   "execution_count": 447,
   "id": "2ccb005f",
   "metadata": {},
   "outputs": [],
   "source": [
    "p = 0 # This is pich value x -1 other value is direct \n",
    "y = -20/180*3.14\n",
    "w = 0 #west"
   ]
  },
  {
   "cell_type": "code",
   "execution_count": 448,
   "id": "f8499595",
   "metadata": {},
   "outputs": [],
   "source": [
    "p1 = np.array([[0,0,14.5]])\n",
    "\n",
    "r1 = np.array([[np.cos(w),-np.sin(w),0],\n",
    "              [np.sin(w),np.cos(w),0],\n",
    "              [0,0,1]])\n",
    "\n",
    "p2 = np.array([[8,0,33.5]])\n",
    "\n",
    "r2 = np.array([[np.cos(y),-np.sin(y),0],\n",
    "              [np.sin(y),np.cos(y),0],\n",
    "              [0,0,1]])\n",
    "\n",
    "p3 = np.array([[0,0,4]])\n",
    "\n",
    "\n",
    "r3 = np.array([[np.cos(p),0,np.sin(p)],\n",
    "              [0,1,0],\n",
    "              [-np.sin(p),0,np.cos(p)]])\n",
    "\n",
    "p4 = np.array([[7,3.5,10]])\n",
    "\n",
    "e = np.array([[1,0,0],[0,1,0],[0,0,1]])\n",
    "zeros = np.array([[0,0,0]])"
   ]
  },
  {
   "cell_type": "code",
   "execution_count": 449,
   "id": "6a5c1e3d",
   "metadata": {},
   "outputs": [],
   "source": [
    "v1 = np.concatenate((e,p1.T),axis=1)\n",
    "v2 = np.concatenate((r1,zeros.T),axis=1)\n",
    "v3 = np.concatenate((e,p2.T),axis=1)\n",
    "v4 = np.concatenate((r2,zeros.T),axis=1)\n",
    "v5 = np.concatenate((e,p3.T),axis=1)\n",
    "v6 = np.concatenate((r3,zeros.T),axis=1)\n",
    "v7 = np.concatenate((e,p4.T),axis=1)\n",
    "\n",
    "# v1 = np.concatenate((e,p1.T),axis=1)\n",
    "# v2 = np.concatenate((r1,p2.T),axis=1)\n",
    "# v3 = np.concatenate((r2,p3.T),axis=1)\n",
    "# v4 = np.concatenate((r3,p4.T),axis=1)\n",
    "\n",
    "\n",
    "# v1 = np.concatenate((r1.T,np.dot(-r1.T,p1.T)),axis=1)\n",
    "# v2 = np.concatenate((r2.T,np.dot(-r2.T,p2.T)),axis=1)\n",
    "# v3 = np.concatenate((r3.T,np.dot(-r3.T,p3.T)),axis=1)\n",
    "# v4 = np.concatenate((e.T,np.dot(-e.T,p4.T)),axis=1)"
   ]
  },
  {
   "cell_type": "code",
   "execution_count": 450,
   "id": "9b5b3a9b",
   "metadata": {},
   "outputs": [],
   "source": [
    "x = np.array([0,0,0,1])"
   ]
  },
  {
   "cell_type": "code",
   "execution_count": 451,
   "id": "9a0f9cb4",
   "metadata": {},
   "outputs": [],
   "source": [
    "z = x\n",
    "for v in [v7, v6, v5, v4, v3, v2, v1]:\n",
    "    v = np.concatenate((v,np.array([[0,0,0,1]])))\n",
    "    z = np.dot(v,z)"
   ]
  },
  {
   "cell_type": "code",
   "execution_count": 452,
   "id": "5c29f7b9",
   "metadata": {},
   "outputs": [
    {
     "data": {
      "text/plain": [
       "array([15.77476038,  0.89615902, 62.        ,  1.        ])"
      ]
     },
     "execution_count": 452,
     "metadata": {},
     "output_type": "execute_result"
    }
   ],
   "source": [
    "z"
   ]
  },
  {
   "cell_type": "code",
   "execution_count": 423,
   "id": "6f210f9e",
   "metadata": {},
   "outputs": [
    {
     "data": {
      "text/plain": [
       "array([[ 0.93975313,  0.        , -0.34185385,  0.        ],\n",
       "       [ 0.        ,  1.        ,  0.        ,  0.        ],\n",
       "       [ 0.34185385,  0.        ,  0.93975313,  0.        ],\n",
       "       [ 0.        ,  0.        ,  0.        ,  1.        ]])"
      ]
     },
     "execution_count": 423,
     "metadata": {},
     "output_type": "execute_result"
    }
   ],
   "source": [
    "v6 = np.concatenate((v6,np.array([[0,0,0,1]])))\n",
    "v6"
   ]
  },
  {
   "cell_type": "code",
   "execution_count": 424,
   "id": "d0fb3600",
   "metadata": {},
   "outputs": [
    {
     "data": {
      "text/plain": [
       "array([[ 1. ,  0. ,  0. ,  7. ],\n",
       "       [ 0. ,  1. ,  0. ,  3.5],\n",
       "       [ 0. ,  0. ,  1. , 10. ],\n",
       "       [ 0. ,  0. ,  0. ,  1. ]])"
      ]
     },
     "execution_count": 424,
     "metadata": {},
     "output_type": "execute_result"
    }
   ],
   "source": [
    "v7 = np.concatenate((v7,np.array([[0,0,0,1]])))\n",
    "v7"
   ]
  },
  {
   "cell_type": "code",
   "execution_count": 425,
   "id": "305584c6",
   "metadata": {},
   "outputs": [
    {
     "data": {
      "text/plain": [
       "array([ 7. ,  3.5, 10. ,  1. ])"
      ]
     },
     "execution_count": 425,
     "metadata": {},
     "output_type": "execute_result"
    }
   ],
   "source": [
    "np.dot(v7,x)"
   ]
  },
  {
   "cell_type": "code",
   "execution_count": 426,
   "id": "f7c6f28f",
   "metadata": {},
   "outputs": [
    {
     "data": {
      "text/plain": [
       "array([ 3.15973343,  3.5       , 11.79050824,  1.        ])"
      ]
     },
     "execution_count": 426,
     "metadata": {},
     "output_type": "execute_result"
    }
   ],
   "source": [
    "np.dot(v6,np.dot(v7,x))"
   ]
  },
  {
   "cell_type": "code",
   "execution_count": 427,
   "id": "98871d7b",
   "metadata": {},
   "outputs": [
    {
     "data": {
      "text/plain": [
       "array([0.93975313, 0.        , 0.34185385, 1.        ])"
      ]
     },
     "execution_count": 427,
     "metadata": {},
     "output_type": "execute_result"
    }
   ],
   "source": [
    "x = np.array([1,0,0,1])\n",
    "np.dot(v6, x)"
   ]
  },
  {
   "cell_type": "code",
   "execution_count": 446,
   "id": "c9b2d291",
   "metadata": {},
   "outputs": [
    {
     "data": {
      "text/plain": [
       "array([[ 1.,  0.,  0.],\n",
       "       [ 0.,  1.,  0.],\n",
       "       [-0.,  0.,  1.]])"
      ]
     },
     "execution_count": 446,
     "metadata": {},
     "output_type": "execute_result"
    }
   ],
   "source": [
    "r3"
   ]
  },
  {
   "cell_type": "code",
   "execution_count": null,
   "id": "fe9f5ad9",
   "metadata": {},
   "outputs": [],
   "source": []
  }
 ],
 "metadata": {
  "kernelspec": {
   "display_name": "Python 3 (ipykernel)",
   "language": "python",
   "name": "python3"
  },
  "language_info": {
   "codemirror_mode": {
    "name": "ipython",
    "version": 3
   },
   "file_extension": ".py",
   "mimetype": "text/x-python",
   "name": "python",
   "nbconvert_exporter": "python",
   "pygments_lexer": "ipython3",
   "version": "3.7.11"
  }
 },
 "nbformat": 4,
 "nbformat_minor": 5
}
